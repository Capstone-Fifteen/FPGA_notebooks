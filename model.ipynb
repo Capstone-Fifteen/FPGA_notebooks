{
 "cells": [
  {
   "cell_type": "code",
   "execution_count": 61,
   "id": "sonic-lyric",
   "metadata": {},
   "outputs": [],
   "source": [
    "import os\n",
    "from numpy import genfromtxt\n",
    "\n",
    "directory = r'./data'\n",
    "dance_data = [[] for x in range(0, 9)]\n",
    "\n",
    "for filename in os.listdir(directory):\n",
    "    if filename.endswith(\".csv\"):\n",
    "        dance_move, _ = filename[:-4].split('_')\n",
    "        dance_data[int(dance_move)].append(genfromtxt(os.path.join(directory, filename), delimiter=','))"
   ]
  },
  {
   "cell_type": "code",
   "execution_count": 80,
   "id": "handed-spine",
   "metadata": {},
   "outputs": [
    {
     "name": "stdout",
     "output_type": "stream",
     "text": [
      "[[-0.92957049  0.95795506  0.40684234 ...  1.37470927 -0.41705489\n",
      "  -0.80124632]\n",
      " [-0.93281458  0.96178847  0.41371376 ...  1.36547392 -0.41705489\n",
      "  -0.81444133]\n",
      " [-0.93448336  0.9649074   0.42110408 ...  1.35458939 -0.41705489\n",
      "  -0.82763635]\n",
      " ...\n",
      " [-0.79944627  1.22739259  0.58167832 ...  0.94889363 -0.41705489\n",
      "  -0.7748563 ]\n",
      " [-0.79526767  1.23255875  0.5819928  ...  0.90601522 -0.41705489\n",
      "  -0.78805131]\n",
      " [-0.79259763  1.23468842  0.57788882 ...  0.9350406  -0.39236228\n",
      "  -0.78805131]]\n"
     ]
    }
   ],
   "source": [
    "print(genfromtxt('./data/1_1.csv', delimiter=','))"
   ]
  },
  {
   "cell_type": "code",
   "execution_count": 83,
   "id": "dense-machinery",
   "metadata": {},
   "outputs": [
    {
     "name": "stdout",
     "output_type": "stream",
     "text": [
      "(2400,)\n"
     ]
    }
   ],
   "source": [
    "x = genfromtxt('./data/1_1.csv', delimiter=',').flatten() + genfromtxt('./data/1_2.csv', delimiter=',').flatten()\n",
    "print(x.shape)"
   ]
  },
  {
   "cell_type": "code",
   "execution_count": 77,
   "id": "underlying-valuable",
   "metadata": {},
   "outputs": [],
   "source": [
    "data = []\n",
    "import numpy as np\n",
    "\n",
    "def process_batch(batch, window_size):\n",
    "    result = []\n",
    "    for i in range(0, len(batch), window_size):\n",
    "        result.append(np.array(batch[i:i + window_size]).flatten())\n",
    "    return result\n",
    "\n",
    "for i in range(0, len(dance_data)):\n",
    "    temp = []\n",
    "    for batch in dance_data[i]:\n",
    "        temp = temp + process_batch(batch, 10)\n",
    "    data.append(temp)"
   ]
  },
  {
   "cell_type": "code",
   "execution_count": 63,
   "id": "minimal-hydrogen",
   "metadata": {},
   "outputs": [
    {
     "name": "stdout",
     "output_type": "stream",
     "text": [
      "[-1.33796588  2.27826762 -1.10298321  0.81988941 -0.66613417  0.8567522\n",
      " -0.82267114  0.29870978  0.34886997  0.71998886 -0.67632737 -0.33942089\n",
      " -1.34263844  2.28115298 -1.09521552  0.81812778 -0.66258364  0.8567522\n",
      " -0.79670924  0.36531903  0.34144275  0.80244735 -0.68867368 -0.31303087\n",
      " -1.35444     2.28586573 -1.08379985  0.8170708  -0.65824409  0.8567522\n",
      " -0.79670924  0.41024155  0.34977024  0.86478597 -0.70101999 -0.29983586\n",
      " -1.36781688  2.29004263 -1.07147217  0.8170708  -0.65390455  0.8567522\n",
      " -0.79670924  0.46259952  0.34031741  0.84004842 -0.70101999 -0.31303087\n",
      " -1.38334314  2.29305165 -1.06205345  0.81777545 -0.64995951  0.8567522\n",
      " -0.79670924  0.44927767  0.31510988  0.75231259 -0.68867368 -0.32622588\n",
      " -1.39518475  2.29460425 -1.05917595  0.81883243 -0.64680348  0.8567522\n",
      " -0.79670924  0.34394211  0.29417863  0.68007896 -0.67632737 -0.36581092\n",
      " -1.40204675  2.29489278 -1.06438061  0.82059407 -0.64483096  0.8567522\n",
      " -0.79670924  0.23488882  0.26311935  0.64016905 -0.65163475 -0.40539596\n",
      " -1.40447648  2.29200743 -1.07744732  0.82270803 -0.64404195  0.8567522\n",
      " -0.79670924  0.15557734  0.23521102  0.65732041 -0.65163475 -0.43178598\n",
      " -1.4022737   2.28439558 -1.09553     0.82482199 -0.64443645  0.8567522\n",
      " -0.79670924  0.09609373  0.23903716  0.69624082 -0.66398106 -0.43178598\n",
      " -1.39583891  2.27154886 -1.11733929  0.8262313  -0.64522546  0.8567522\n",
      " -0.79670924  0.1100352   0.26491989  0.75198276 -0.67632737 -0.44498099]\n"
     ]
    }
   ],
   "source": [
    "print(data[0][0])"
   ]
  },
  {
   "cell_type": "code",
   "execution_count": 64,
   "id": "generic-audit",
   "metadata": {},
   "outputs": [
    {
     "name": "stdout",
     "output_type": "stream",
     "text": [
      "(1620, 120) (1620, 9)\n"
     ]
    }
   ],
   "source": [
    "import numpy as np\n",
    "from keras.utils import to_categorical\n",
    "\n",
    "x = []\n",
    "y = []\n",
    "\n",
    "for i in range(0, len(data)):\n",
    "    for d in data[i]:\n",
    "        x.append(d)\n",
    "        y.append(i)\n",
    "        \n",
    "x = np.array(x)\n",
    "y = to_categorical(np.array(y))\n",
    "print(x.shape, y.shape)"
   ]
  },
  {
   "cell_type": "code",
   "execution_count": 70,
   "id": "narrative-claim",
   "metadata": {},
   "outputs": [],
   "source": [
    "from sklearn.model_selection import train_test_split\n",
    "\n",
    "X_train, X_test, y_train, y_test = train_test_split(x, y, test_size=0.20, random_state=33)\n",
    "\n",
    "import keras\n",
    "from keras.models import Sequential\n",
    "from keras.layers import Dense, Dropout\n",
    "from keras.optimizers import Adam\n",
    "\n",
    "# Neural network\n",
    "model = Sequential()\n",
    "model.add(Dense(256, input_dim=x.shape[1], activation='relu'))\n",
    "model.add(Dropout(0.5, seed=3))\n",
    "model.add(Dense(32, activation='relu'))\n",
    "model.add(Dense(y.shape[1], activation='softmax'))\n",
    "\n",
    "model.compile(loss = 'categorical_crossentropy', optimizer = Adam(lr = 0.001), metrics = ['accuracy'],)"
   ]
  },
  {
   "cell_type": "code",
   "execution_count": 71,
   "id": "aerial-poison",
   "metadata": {},
   "outputs": [
    {
     "name": "stdout",
     "output_type": "stream",
     "text": [
      "Epoch 1/100\n",
      "21/21 [==============================] - 1s 19ms/step - loss: 1.9060 - accuracy: 0.3546 - val_loss: 0.3613 - val_accuracy: 0.9568\n",
      "Epoch 2/100\n",
      "21/21 [==============================] - 0s 9ms/step - loss: 0.3373 - accuracy: 0.9428 - val_loss: 0.0682 - val_accuracy: 0.9907\n",
      "Epoch 3/100\n",
      "21/21 [==============================] - 0s 8ms/step - loss: 0.1026 - accuracy: 0.9802 - val_loss: 0.0337 - val_accuracy: 0.9907\n",
      "Epoch 4/100\n",
      "21/21 [==============================] - 0s 8ms/step - loss: 0.0676 - accuracy: 0.9829 - val_loss: 0.0230 - val_accuracy: 0.9938\n",
      "Epoch 5/100\n",
      "21/21 [==============================] - 0s 12ms/step - loss: 0.0369 - accuracy: 0.9914 - val_loss: 0.0185 - val_accuracy: 0.9969\n",
      "Epoch 6/100\n",
      "21/21 [==============================] - 0s 20ms/step - loss: 0.0308 - accuracy: 0.9949 - val_loss: 0.0157 - val_accuracy: 0.9907\n",
      "Epoch 7/100\n",
      "21/21 [==============================] - 0s 10ms/step - loss: 0.0247 - accuracy: 0.9950 - val_loss: 0.0181 - val_accuracy: 0.9938\n",
      "Epoch 8/100\n",
      "21/21 [==============================] - 0s 8ms/step - loss: 0.0221 - accuracy: 0.9972 - val_loss: 0.0147 - val_accuracy: 0.9938\n",
      "Epoch 9/100\n",
      "21/21 [==============================] - 0s 7ms/step - loss: 0.0182 - accuracy: 0.9971 - val_loss: 0.0148 - val_accuracy: 0.9907\n",
      "Epoch 10/100\n",
      "21/21 [==============================] - 0s 8ms/step - loss: 0.0131 - accuracy: 0.9987 - val_loss: 0.0100 - val_accuracy: 0.9969\n",
      "Epoch 11/100\n",
      "21/21 [==============================] - 0s 8ms/step - loss: 0.0116 - accuracy: 0.9998 - val_loss: 0.0114 - val_accuracy: 0.9969\n",
      "Epoch 12/100\n",
      "21/21 [==============================] - 0s 7ms/step - loss: 0.0099 - accuracy: 0.9992 - val_loss: 0.0105 - val_accuracy: 0.9969\n",
      "Epoch 13/100\n",
      "21/21 [==============================] - 0s 9ms/step - loss: 0.0117 - accuracy: 0.9987 - val_loss: 0.0109 - val_accuracy: 0.9969\n",
      "Epoch 14/100\n",
      "21/21 [==============================] - 0s 9ms/step - loss: 0.0095 - accuracy: 0.9985 - val_loss: 0.0085 - val_accuracy: 0.9969\n",
      "Epoch 15/100\n",
      "21/21 [==============================] - 0s 9ms/step - loss: 0.0153 - accuracy: 0.9952 - val_loss: 0.0095 - val_accuracy: 0.9969\n",
      "Epoch 16/100\n",
      "21/21 [==============================] - 0s 10ms/step - loss: 0.0085 - accuracy: 0.9997 - val_loss: 0.0085 - val_accuracy: 0.9969\n",
      "Epoch 17/100\n",
      "21/21 [==============================] - 0s 12ms/step - loss: 0.0080 - accuracy: 0.9997 - val_loss: 0.0045 - val_accuracy: 0.9969\n",
      "Epoch 18/100\n",
      "21/21 [==============================] - 0s 8ms/step - loss: 0.0060 - accuracy: 0.9995 - val_loss: 0.0071 - val_accuracy: 0.9969\n",
      "Epoch 19/100\n",
      "21/21 [==============================] - 0s 9ms/step - loss: 0.0069 - accuracy: 0.9981 - val_loss: 0.0097 - val_accuracy: 0.9969\n",
      "Epoch 20/100\n",
      "21/21 [==============================] - 0s 8ms/step - loss: 0.0110 - accuracy: 0.9956 - val_loss: 0.0121 - val_accuracy: 0.9969\n",
      "Epoch 21/100\n",
      "21/21 [==============================] - 0s 12ms/step - loss: 0.0075 - accuracy: 0.9996 - val_loss: 0.0051 - val_accuracy: 0.9969\n",
      "Epoch 22/100\n",
      "21/21 [==============================] - 0s 10ms/step - loss: 0.0049 - accuracy: 0.9996 - val_loss: 0.0057 - val_accuracy: 0.9969\n",
      "Epoch 23/100\n",
      "21/21 [==============================] - 0s 9ms/step - loss: 0.0040 - accuracy: 0.9998 - val_loss: 0.0105 - val_accuracy: 0.9969\n",
      "Epoch 24/100\n",
      "21/21 [==============================] - 0s 8ms/step - loss: 0.0061 - accuracy: 0.9974 - val_loss: 0.0082 - val_accuracy: 0.9969\n",
      "Epoch 25/100\n",
      "21/21 [==============================] - 0s 9ms/step - loss: 0.0042 - accuracy: 0.9996 - val_loss: 0.0093 - val_accuracy: 0.9969\n",
      "Epoch 26/100\n",
      "21/21 [==============================] - 0s 13ms/step - loss: 0.0036 - accuracy: 0.9993 - val_loss: 0.0064 - val_accuracy: 0.9969\n",
      "Epoch 27/100\n",
      "21/21 [==============================] - 0s 9ms/step - loss: 0.0028 - accuracy: 1.0000 - val_loss: 0.0063 - val_accuracy: 0.9969\n",
      "Epoch 28/100\n",
      "21/21 [==============================] - 0s 10ms/step - loss: 0.0031 - accuracy: 1.0000 - val_loss: 0.0069 - val_accuracy: 0.9969\n",
      "Epoch 29/100\n",
      "21/21 [==============================] - 0s 11ms/step - loss: 0.0026 - accuracy: 1.0000 - val_loss: 0.0091 - val_accuracy: 0.9969\n",
      "Epoch 30/100\n",
      "21/21 [==============================] - 0s 9ms/step - loss: 0.0020 - accuracy: 1.0000 - val_loss: 0.0080 - val_accuracy: 0.9969\n",
      "Epoch 31/100\n",
      "21/21 [==============================] - 0s 7ms/step - loss: 0.0050 - accuracy: 0.9996 - val_loss: 0.0112 - val_accuracy: 0.9969\n",
      "Epoch 32/100\n",
      "21/21 [==============================] - 0s 7ms/step - loss: 0.0026 - accuracy: 1.0000 - val_loss: 0.0091 - val_accuracy: 0.9969\n",
      "Epoch 33/100\n",
      "21/21 [==============================] - 0s 7ms/step - loss: 0.0046 - accuracy: 0.9989 - val_loss: 0.0102 - val_accuracy: 0.9969\n",
      "Epoch 34/100\n",
      "21/21 [==============================] - 0s 8ms/step - loss: 0.0035 - accuracy: 0.9993 - val_loss: 0.0093 - val_accuracy: 0.9969\n",
      "Epoch 35/100\n",
      "21/21 [==============================] - 0s 10ms/step - loss: 0.0033 - accuracy: 0.9986 - val_loss: 0.0061 - val_accuracy: 0.9969\n",
      "Epoch 36/100\n",
      "21/21 [==============================] - 0s 9ms/step - loss: 0.0108 - accuracy: 0.9972 - val_loss: 0.0037 - val_accuracy: 0.9969\n",
      "Epoch 37/100\n",
      "21/21 [==============================] - 0s 8ms/step - loss: 0.0060 - accuracy: 0.9984 - val_loss: 0.0061 - val_accuracy: 0.9969\n",
      "Epoch 38/100\n",
      "21/21 [==============================] - 0s 6ms/step - loss: 0.0032 - accuracy: 1.0000 - val_loss: 0.0073 - val_accuracy: 0.9969\n",
      "Epoch 39/100\n",
      "21/21 [==============================] - 0s 5ms/step - loss: 0.0027 - accuracy: 1.0000 - val_loss: 0.0106 - val_accuracy: 0.9969\n",
      "Epoch 40/100\n",
      "21/21 [==============================] - 0s 5ms/step - loss: 0.0078 - accuracy: 0.9968 - val_loss: 0.0089 - val_accuracy: 0.9969\n",
      "Epoch 41/100\n",
      "21/21 [==============================] - 0s 5ms/step - loss: 0.0021 - accuracy: 1.0000 - val_loss: 0.0084 - val_accuracy: 0.9969\n",
      "Epoch 42/100\n",
      "21/21 [==============================] - 0s 6ms/step - loss: 0.0030 - accuracy: 0.9999 - val_loss: 0.0045 - val_accuracy: 0.9969\n",
      "Epoch 43/100\n",
      "21/21 [==============================] - 0s 8ms/step - loss: 0.0052 - accuracy: 0.9973 - val_loss: 0.0073 - val_accuracy: 0.9938\n",
      "Epoch 44/100\n",
      "21/21 [==============================] - 0s 7ms/step - loss: 0.0049 - accuracy: 0.9986 - val_loss: 0.0056 - val_accuracy: 0.9969\n",
      "Epoch 45/100\n",
      "21/21 [==============================] - 0s 6ms/step - loss: 0.0046 - accuracy: 0.9973 - val_loss: 0.0099 - val_accuracy: 0.9969\n",
      "Epoch 46/100\n",
      "21/21 [==============================] - 0s 7ms/step - loss: 0.0018 - accuracy: 1.0000 - val_loss: 0.0055 - val_accuracy: 0.9969\n",
      "Epoch 47/100\n",
      "21/21 [==============================] - 0s 6ms/step - loss: 0.0016 - accuracy: 1.0000 - val_loss: 0.0056 - val_accuracy: 0.9969\n",
      "Epoch 48/100\n",
      "21/21 [==============================] - 0s 6ms/step - loss: 9.8687e-04 - accuracy: 1.0000 - val_loss: 0.0057 - val_accuracy: 0.9969\n",
      "Epoch 49/100\n",
      "21/21 [==============================] - 0s 7ms/step - loss: 0.0011 - accuracy: 0.9997 - val_loss: 0.0043 - val_accuracy: 0.9969\n",
      "Epoch 50/100\n",
      "21/21 [==============================] - 0s 6ms/step - loss: 0.0014 - accuracy: 0.9997 - val_loss: 0.0044 - val_accuracy: 0.9969\n",
      "Epoch 51/100\n",
      "21/21 [==============================] - 0s 6ms/step - loss: 9.8325e-04 - accuracy: 0.9998 - val_loss: 0.0141 - val_accuracy: 0.9907\n",
      "Epoch 52/100\n",
      "21/21 [==============================] - 0s 5ms/step - loss: 0.0060 - accuracy: 0.9987 - val_loss: 0.0090 - val_accuracy: 0.9969\n",
      "Epoch 53/100\n",
      "21/21 [==============================] - 0s 6ms/step - loss: 0.0072 - accuracy: 0.9974 - val_loss: 0.0067 - val_accuracy: 0.9969\n",
      "Epoch 54/100\n",
      "21/21 [==============================] - 0s 8ms/step - loss: 0.0014 - accuracy: 1.0000 - val_loss: 0.0053 - val_accuracy: 0.9969\n",
      "Epoch 55/100\n",
      "21/21 [==============================] - 0s 11ms/step - loss: 0.0012 - accuracy: 1.0000 - val_loss: 0.0071 - val_accuracy: 0.9969\n",
      "Epoch 56/100\n",
      "21/21 [==============================] - 0s 11ms/step - loss: 0.0017 - accuracy: 0.9995 - val_loss: 0.0147 - val_accuracy: 0.9969\n",
      "Epoch 57/100\n",
      "21/21 [==============================] - 0s 9ms/step - loss: 0.0023 - accuracy: 1.0000 - val_loss: 0.0065 - val_accuracy: 0.9969\n",
      "Epoch 58/100\n"
     ]
    },
    {
     "name": "stdout",
     "output_type": "stream",
     "text": [
      "21/21 [==============================] - 0s 9ms/step - loss: 8.4843e-04 - accuracy: 1.0000 - val_loss: 0.0042 - val_accuracy: 0.9969\n",
      "Epoch 59/100\n",
      "21/21 [==============================] - 0s 8ms/step - loss: 0.0019 - accuracy: 1.0000 - val_loss: 0.0057 - val_accuracy: 0.9969\n",
      "Epoch 60/100\n",
      "21/21 [==============================] - 0s 8ms/step - loss: 0.0013 - accuracy: 0.9990 - val_loss: 0.0069 - val_accuracy: 0.9969\n",
      "Epoch 61/100\n",
      "21/21 [==============================] - 0s 8ms/step - loss: 0.0065 - accuracy: 0.9959 - val_loss: 0.0042 - val_accuracy: 0.9969\n",
      "Epoch 62/100\n",
      "21/21 [==============================] - 0s 10ms/step - loss: 0.0011 - accuracy: 1.0000 - val_loss: 0.0060 - val_accuracy: 0.9969\n",
      "Epoch 63/100\n",
      "21/21 [==============================] - 0s 8ms/step - loss: 7.8215e-04 - accuracy: 1.0000 - val_loss: 0.0130 - val_accuracy: 0.9969\n",
      "Epoch 64/100\n",
      "21/21 [==============================] - 0s 12ms/step - loss: 9.2630e-04 - accuracy: 1.0000 - val_loss: 0.0133 - val_accuracy: 0.9969\n",
      "Epoch 65/100\n",
      "21/21 [==============================] - 0s 7ms/step - loss: 0.0010 - accuracy: 1.0000 - val_loss: 0.0104 - val_accuracy: 0.9969\n",
      "Epoch 66/100\n",
      "21/21 [==============================] - 0s 8ms/step - loss: 4.8596e-04 - accuracy: 1.0000 - val_loss: 0.0084 - val_accuracy: 0.9969\n",
      "Epoch 67/100\n",
      "21/21 [==============================] - 0s 9ms/step - loss: 5.4173e-04 - accuracy: 1.0000 - val_loss: 0.0099 - val_accuracy: 0.9969\n",
      "Epoch 68/100\n",
      "21/21 [==============================] - 0s 8ms/step - loss: 0.0011 - accuracy: 1.0000 - val_loss: 0.0103 - val_accuracy: 0.9969\n",
      "Epoch 69/100\n",
      "21/21 [==============================] - 0s 8ms/step - loss: 6.4612e-04 - accuracy: 1.0000 - val_loss: 0.0084 - val_accuracy: 0.9969\n",
      "Epoch 70/100\n",
      "21/21 [==============================] - 0s 7ms/step - loss: 0.0022 - accuracy: 0.9992 - val_loss: 0.0189 - val_accuracy: 0.9969\n",
      "Epoch 71/100\n",
      "21/21 [==============================] - 0s 10ms/step - loss: 0.0014 - accuracy: 1.0000 - val_loss: 0.0055 - val_accuracy: 0.9969\n",
      "Epoch 72/100\n",
      "21/21 [==============================] - 0s 10ms/step - loss: 8.6702e-04 - accuracy: 1.0000 - val_loss: 0.0045 - val_accuracy: 0.9969\n",
      "Epoch 73/100\n",
      "21/21 [==============================] - 0s 9ms/step - loss: 6.2340e-04 - accuracy: 1.0000 - val_loss: 0.0031 - val_accuracy: 0.9969\n",
      "Epoch 74/100\n",
      "21/21 [==============================] - 0s 10ms/step - loss: 5.8033e-04 - accuracy: 1.0000 - val_loss: 0.0048 - val_accuracy: 0.9969\n",
      "Epoch 75/100\n",
      "21/21 [==============================] - 0s 9ms/step - loss: 4.7559e-04 - accuracy: 1.0000 - val_loss: 0.0056 - val_accuracy: 0.9969\n",
      "Epoch 76/100\n",
      "21/21 [==============================] - 0s 9ms/step - loss: 2.6451e-04 - accuracy: 1.0000 - val_loss: 0.0055 - val_accuracy: 0.9969\n",
      "Epoch 77/100\n",
      "21/21 [==============================] - 0s 9ms/step - loss: 8.2649e-04 - accuracy: 1.0000 - val_loss: 0.0043 - val_accuracy: 0.9969\n",
      "Epoch 78/100\n",
      "21/21 [==============================] - 0s 9ms/step - loss: 9.3127e-04 - accuracy: 1.0000 - val_loss: 0.0050 - val_accuracy: 0.9969\n",
      "Epoch 79/100\n",
      "21/21 [==============================] - 0s 9ms/step - loss: 3.9780e-04 - accuracy: 1.0000 - val_loss: 0.0055 - val_accuracy: 0.9969\n",
      "Epoch 80/100\n",
      "21/21 [==============================] - 0s 11ms/step - loss: 0.0023 - accuracy: 1.0000 - val_loss: 0.0099 - val_accuracy: 0.9969\n",
      "Epoch 81/100\n",
      "21/21 [==============================] - 0s 9ms/step - loss: 4.4574e-04 - accuracy: 1.0000 - val_loss: 0.0141 - val_accuracy: 0.9969\n",
      "Epoch 82/100\n",
      "21/21 [==============================] - 0s 8ms/step - loss: 4.4285e-04 - accuracy: 1.0000 - val_loss: 0.0126 - val_accuracy: 0.9969\n",
      "Epoch 83/100\n",
      "21/21 [==============================] - 0s 6ms/step - loss: 5.7640e-04 - accuracy: 1.0000 - val_loss: 0.0132 - val_accuracy: 0.9969\n",
      "Epoch 84/100\n",
      "21/21 [==============================] - 0s 9ms/step - loss: 4.7216e-04 - accuracy: 1.0000 - val_loss: 0.0130 - val_accuracy: 0.9969\n",
      "Epoch 85/100\n",
      "21/21 [==============================] - 0s 10ms/step - loss: 2.6344e-04 - accuracy: 1.0000 - val_loss: 0.0136 - val_accuracy: 0.9969\n",
      "Epoch 86/100\n",
      "21/21 [==============================] - 0s 8ms/step - loss: 0.0025 - accuracy: 0.9984 - val_loss: 0.0141 - val_accuracy: 0.9938\n",
      "Epoch 87/100\n",
      "21/21 [==============================] - 0s 7ms/step - loss: 0.0010 - accuracy: 1.0000 - val_loss: 0.0110 - val_accuracy: 0.9969\n",
      "Epoch 88/100\n",
      "21/21 [==============================] - 0s 8ms/step - loss: 2.4706e-04 - accuracy: 1.0000 - val_loss: 0.0105 - val_accuracy: 0.9969\n",
      "Epoch 89/100\n",
      "21/21 [==============================] - 0s 7ms/step - loss: 3.9806e-04 - accuracy: 1.0000 - val_loss: 0.0127 - val_accuracy: 0.9969\n",
      "Epoch 90/100\n",
      "21/21 [==============================] - 0s 8ms/step - loss: 1.7182e-04 - accuracy: 1.0000 - val_loss: 0.0135 - val_accuracy: 0.9969\n",
      "Epoch 91/100\n",
      "21/21 [==============================] - 0s 8ms/step - loss: 6.1586e-04 - accuracy: 1.0000 - val_loss: 0.0062 - val_accuracy: 0.9969\n",
      "Epoch 92/100\n",
      "21/21 [==============================] - 0s 10ms/step - loss: 1.6241e-04 - accuracy: 1.0000 - val_loss: 0.0060 - val_accuracy: 0.9969\n",
      "Epoch 93/100\n",
      "21/21 [==============================] - 0s 8ms/step - loss: 3.2098e-04 - accuracy: 1.0000 - val_loss: 0.0121 - val_accuracy: 0.9969\n",
      "Epoch 94/100\n",
      "21/21 [==============================] - 0s 7ms/step - loss: 4.5955e-04 - accuracy: 1.0000 - val_loss: 0.0132 - val_accuracy: 0.9969\n",
      "Epoch 95/100\n",
      "21/21 [==============================] - 0s 8ms/step - loss: 2.9985e-04 - accuracy: 1.0000 - val_loss: 0.0136 - val_accuracy: 0.9969\n",
      "Epoch 96/100\n",
      "21/21 [==============================] - 0s 5ms/step - loss: 3.8542e-04 - accuracy: 1.0000 - val_loss: 0.0134 - val_accuracy: 0.9969\n",
      "Epoch 97/100\n",
      "21/21 [==============================] - 0s 7ms/step - loss: 2.2309e-04 - accuracy: 1.0000 - val_loss: 0.0123 - val_accuracy: 0.9969\n",
      "Epoch 98/100\n",
      "21/21 [==============================] - 0s 10ms/step - loss: 2.0601e-04 - accuracy: 1.0000 - val_loss: 0.0118 - val_accuracy: 0.9969\n",
      "Epoch 99/100\n",
      "21/21 [==============================] - 0s 9ms/step - loss: 5.4904e-04 - accuracy: 1.0000 - val_loss: 0.0143 - val_accuracy: 0.9969\n",
      "Epoch 100/100\n",
      "21/21 [==============================] - 0s 7ms/step - loss: 3.7336e-04 - accuracy: 1.0000 - val_loss: 0.0130 - val_accuracy: 0.9969\n"
     ]
    }
   ],
   "source": [
    "history = model.fit(X_train, y_train,validation_data = (X_test,y_test), epochs=100, batch_size=64)"
   ]
  },
  {
   "cell_type": "code",
   "execution_count": 72,
   "id": "emerging-advice",
   "metadata": {},
   "outputs": [
    {
     "data": {
      "image/png": "[encoded data removed]",
      "text/plain": [
       "<Figure size 432x288 with 1 Axes>"
      ]
     },
     "metadata": {
      "needs_background": "light"
     },
     "output_type": "display_data"
    }
   ],
   "source": [
    "import matplotlib.pyplot as plt\n",
    "plt.plot(history.history['accuracy'])\n",
    "plt.plot(history.history['val_accuracy'])\n",
    "plt.title('Model accuracy')\n",
    "plt.ylabel('Accuracy')\n",
    "plt.xlabel('Epoch')\n",
    "plt.legend(['Train', 'Test'], loc='upper left')\n",
    "plt.show()"
   ]
  },
  {
   "cell_type": "code",
   "execution_count": 73,
   "id": "boolean-carolina",
   "metadata": {},
   "outputs": [
    {
     "data": {
      "image/png": "[encoded data removed]",
      "text/plain": [
       "<Figure size 432x288 with 1 Axes>"
      ]
     },
     "metadata": {
      "needs_background": "light"
     },
     "output_type": "display_data"
    }
   ],
   "source": [
    "import matplotlib.pyplot as plt\n",
    "plt.plot(history.history['loss'])  \n",
    "plt.plot(history.history['val_loss'])\n",
    "plt.title('Model loss') \n",
    "plt.ylabel('Loss') \n",
    "plt.xlabel('Epoch') \n",
    "plt.legend(['Train', 'Test'], loc='upper left') \n",
    "plt.show()"
   ]
  },
  {
   "cell_type": "code",
   "execution_count": 74,
   "id": "specific-airline",
   "metadata": {},
   "outputs": [
    {
     "name": "stdout",
     "output_type": "stream",
     "text": [
      "INFO:tensorflow:Assets written to: ./model/model_9/assets\n"
     ]
    }
   ],
   "source": [
    "model.save('./model/model_9')"
   ]
  },
  {
   "cell_type": "code",
   "execution_count": null,
   "id": "invalid-closing",
   "metadata": {},
   "outputs": [],
   "source": []
  },
  {
   "cell_type": "code",
   "execution_count": null,
   "id": "strategic-egyptian",
   "metadata": {},
   "outputs": [],
   "source": []
  }
 ],
 "metadata": {
  "kernelspec": {
   "display_name": "Python 3",
   "language": "python",
   "name": "python3"
  },
  "language_info": {
   "codemirror_mode": {
    "name": "ipython",
    "version": 3
   },
   "file_extension": ".py",
   "mimetype": "text/x-python",
   "name": "python",
   "nbconvert_exporter": "python",
   "pygments_lexer": "ipython3",
   "version": "3.8.5"
  }
 },
 "nbformat": 4,
 "nbformat_minor": 5
}
