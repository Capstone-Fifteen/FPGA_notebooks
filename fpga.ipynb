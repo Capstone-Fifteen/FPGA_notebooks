{
 "cells": [
  {
   "cell_type": "markdown",
   "metadata": {
    "collapsed": true
   },
   "source": [
    "# Welcome to PYNQ\n",
    "\n",
    "## Getting Started\n",
    "\n",
    "To get started using PYNQ, try running the example notebooks in the folders described below. \n",
    "\n",
    "* **getting_started**: includes an introduction to using Jupyter notebook with PYNQ, the Python environment, and how to use some basic features of the current platform. \n",
    "\n",
    "* **common**: contains example notebooks on how to download an overlay, how to set the Zynq clocks, how to execute Linux shell commands, and how to use USB devices.\n",
    "\n",
    "If other overlays or packages are installed, other folders with example notebooks may also be available in this directory.  \n",
    "\n",
    "\n",
    "## Documentation\n",
    "\n",
    "Please see the latest <a href=\"http://pynq.readthedocs.io\">PYNQ Documentation on readthedocs</a>.  \n",
    "\n",
    "\n",
    "## Support\n",
    "\n",
    "For questions or support, go to the forum on the <a href=\"http://www.pynq.io\">PYNQ project webpage </a>.\n",
    "\n",
    "\n",
    "## Project webpage\n",
    "\n",
    "You can find details on the <a href=\"http://www.pynq.io\">PYNQ project webpage </a>.\n",
    "\n",
    "\n",
    "## GitHub\n",
    "\n",
    "The PYNQ Repository is hosted on github: <a href=\"https://github.com/Xilinx/PYNQ\">PYNQ GitHub Repository</a>."
   ]
  },
  {
   "cell_type": "code",
   "execution_count": 2,
   "metadata": {},
   "outputs": [],
   "source": [
    "from pynq import Overlay\n",
    "import pynq.lib.dma\n",
    "from pynq import Xlnk\n",
    "import numpy as np\n",
    "import csv\n",
    "\n",
    "ol = Overlay(\"../fpga2/design_1.bit\")\n",
    "\n",
    "ol?"
   ]
  },
  {
   "cell_type": "code",
   "execution_count": 5,
   "metadata": {},
   "outputs": [
    {
     "name": "stdout",
     "output_type": "stream",
     "text": [
      "Input size: 723 Output size: 64\n"
     ]
    }
   ],
   "source": [
    "import numpy as np\n",
    "from pynq import allocate\n",
    "from pynq import Overlay\n",
    "\n",
    "dma = ol.axi_dma_0\n",
    "\n",
    "input_row = 64\n",
    "input_col = 7\n",
    "hidden_row = 8\n",
    "hidden_col = 2\n",
    "sigmoid = 256\n",
    "output_row = 3\n",
    "output_col = 1\n",
    "input_size = input_row * input_col + hidden_row * hidden_col + sigmoid + output_row * output_col\n",
    "output_size = output_col * input_row\n",
    "\n",
    "input_buffer = allocate(shape=(input_size,), dtype=np.uint32)\n",
    "output_buffer = allocate(shape=(output_size,), dtype=np.uint32)\n",
    "print(\"Input size:\", input_size, \"Output size:\", output_size)"
   ]
  },
  {
   "cell_type": "code",
   "execution_count": 6,
   "metadata": {},
   "outputs": [],
   "source": [
    "import csv\n",
    "\n",
    "i = 0\n",
    "\n",
    "#read input layer\n",
    "with open('../csv/X.csv') as f:\n",
    "    f_csv = csv.reader(f)\n",
    "    for row in f_csv:\n",
    "        for item in row:\n",
    "            input_buffer[i] = item\n",
    "            i = i + 1\n",
    "            pass\n",
    "            \n",
    "#read hidden layer\n",
    "with open('../csv/w_hid.csv') as f:\n",
    "    f_csv = csv.reader(f)\n",
    "    for row in zip(*f_csv):\n",
    "        for item in row:\n",
    "            input_buffer[i] = item\n",
    "            i = i + 1\n",
    "\n",
    "#read sigmoid layer\n",
    "with open('../csv/sigmoid.csv') as f:\n",
    "    f_csv = csv.reader(f)\n",
    "    for row in f_csv:\n",
    "        for item in row:\n",
    "            input_buffer[i] = item\n",
    "            i = i + 1\n",
    "\n",
    "#read output layer\n",
    "with open('../csv/w_out.csv') as f:\n",
    "    f_csv = csv.reader(f)\n",
    "    for row in zip(*f_csv):\n",
    "        for item in row:\n",
    "            input_buffer[i] = item\n",
    "            i = i + 1"
   ]
  },
  {
   "cell_type": "code",
   "execution_count": 26,
   "metadata": {
    "scrolled": true
   },
   "outputs": [
    {
     "name": "stdout",
     "output_type": "stream",
     "text": [
      "[100 153 152 135 122 127 152 160 146 128 120 118 166 153 153 128 167 123\n",
      " 148 119 127 130 153 112 146 141 157 145 120 111 119 122 122 114 142 146\n",
      " 121 157 115 160 115 187 117 116 129 161 177 139 153 121 111 143 142 118\n",
      " 152 114 110 164 119 122 157 119 135 125]\n"
     ]
    }
   ],
   "source": [
    "import time\n",
    "start_time = time.time()\n",
    "dma.sendchannel.transfer(input_buffer)\n",
    "dma.recvchannel.transfer(output_buffer)\n",
    "dma.sendchannel.wait()\n",
    "dma.recvchannel.wait()\n",
    "stop_time = time.time()\n",
    "acc_time = stop_time - start_time\n",
    "print(output_buffer)"
   ]
  },
  {
   "cell_type": "code",
   "execution_count": 28,
   "metadata": {},
   "outputs": [],
   "source": [
    "import numpy as np\n",
    "inputs = np.loadtxt('../csv/X.csv', delimiter=',', dtype ='int')\n",
    "hidden = np.loadtxt('../csv/w_hid.csv', delimiter=',', dtype ='int')\n",
    "hidden = np.transpose(hidden)\n",
    "sigmoid = np.loadtxt('../csv/sigmoid.csv', delimiter=',', dtype ='int')\n",
    "outputs = np.loadtxt('../csv/w_out.csv', delimiter=',', dtype ='int')\n",
    "outputs = np.transpose(outputs)"
   ]
  },
  {
   "cell_type": "code",
   "execution_count": 29,
   "metadata": {},
   "outputs": [
    {
     "name": "stdout",
     "output_type": "stream",
     "text": [
      "FPGA time: 0.002503633499145508 Software time: 0.011945962905883789\n",
      "Acceleration factor: 4.771450338063041\n",
      "Wrong! FPGA output: 135 Real output: 134\n",
      "Wrong! FPGA output: 127 Real output: 126\n",
      "Wrong! FPGA output: 152 Real output: 151\n",
      "Wrong! FPGA output: 160 Real output: 159\n",
      "Wrong! FPGA output: 166 Real output: 165\n",
      "Wrong! FPGA output: 153 Real output: 152\n",
      "Wrong! FPGA output: 128 Real output: 127\n",
      "Wrong! FPGA output: 119 Real output: 118\n",
      "Wrong! FPGA output: 130 Real output: 129\n",
      "Wrong! FPGA output: 146 Real output: 145\n",
      "Wrong! FPGA output: 145 Real output: 144\n",
      "Wrong! FPGA output: 120 Real output: 119\n",
      "Wrong! FPGA output: 111 Real output: 110\n",
      "Wrong! FPGA output: 119 Real output: 118\n",
      "Wrong! FPGA output: 142 Real output: 141\n",
      "Wrong! FPGA output: 121 Real output: 120\n",
      "Wrong! FPGA output: 129 Real output: 128\n",
      "Wrong! FPGA output: 161 Real output: 160\n",
      "Wrong! FPGA output: 121 Real output: 120\n",
      "Wrong! FPGA output: 111 Real output: 110\n",
      "Wrong! FPGA output: 143 Real output: 142\n",
      "Wrong! FPGA output: 142 Real output: 141\n",
      "Wrong! FPGA output: 118 Real output: 117\n",
      "Wrong! FPGA output: 110 Real output: 109\n",
      "Wrong! FPGA output: 164 Real output: 163\n",
      "Wrong! FPGA output: 157 Real output: 156\n",
      "Accuracy:  0.40625\n"
     ]
    }
   ],
   "source": [
    "results = list()\n",
    "start_time = time.time()\n",
    "for a in range(input_row):\n",
    "    sums = [0 for x in range(hidden_col)]\n",
    "    for c in range(hidden_col):\n",
    "        for b in range(input_col):\n",
    "            sums[c] = sums[c] + inputs[a][b] * hidden[c][b + 1]\n",
    "        sums[c] = sums[c] >> 8\n",
    "        sums[c] += hidden[c][0]    \n",
    "        sums[c] = sigmoid[sums[c]]\n",
    "    mul = [(sums[x] * outputs[x + 1]) >> 8 for x in range(hidden_col)]\n",
    "    results.append(sum(mul) + outputs[0])\n",
    "stop_time = time.time()\n",
    "sw_time = stop_time - start_time\n",
    "\n",
    "#validate results\n",
    "print(\"FPGA time:\", acc_time, \"Software time:\", sw_time)\n",
    "print(\"Acceleration factor:\", sw_time / acc_time)\n",
    "miss = 0\n",
    "for x in range(input_row):\n",
    "    if results[x] != output_buffer[x]:\n",
    "        miss = miss + 1\n",
    "        print(\"Wrong! FPGA output:\", output_buffer[x], \"Real output:\", results[x])\n",
    "print(\"Accuracy: \", miss / input_row)"
   ]
  },
  {
   "cell_type": "code",
   "execution_count": null,
   "metadata": {},
   "outputs": [],
   "source": []
  }
 ],
 "metadata": {
  "kernelspec": {
   "display_name": "Python 3",
   "language": "python",
   "name": "python3"
  },
  "language_info": {
   "codemirror_mode": {
    "name": "ipython",
    "version": 3
   },
   "file_extension": ".py",
   "mimetype": "text/x-python",
   "name": "python",
   "nbconvert_exporter": "python",
   "pygments_lexer": "ipython3",
   "version": "3.6.5"
  }
 },
 "nbformat": 4,
 "nbformat_minor": 1
}
