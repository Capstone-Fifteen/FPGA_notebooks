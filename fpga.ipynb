{
 "cells": [
  {
   "cell_type": "markdown",
   "metadata": {
    "collapsed": true
   },
   "source": [
    "# Welcome to PYNQ\n",
    "\n",
    "## Getting Started\n",
    "\n",
    "To get started using PYNQ, try running the example notebooks in the folders described below. \n",
    "\n",
    "* **getting_started**: includes an introduction to using Jupyter notebook with PYNQ, the Python environment, and how to use some basic features of the current platform. \n",
    "\n",
    "* **common**: contains example notebooks on how to download an overlay, how to set the Zynq clocks, how to execute Linux shell commands, and how to use USB devices.\n",
    "\n",
    "If other overlays or packages are installed, other folders with example notebooks may also be available in this directory.  \n",
    "\n",
    "\n",
    "## Documentation\n",
    "\n",
    "Please see the latest <a href=\"http://pynq.readthedocs.io\">PYNQ Documentation on readthedocs</a>.  \n",
    "\n",
    "\n",
    "## Support\n",
    "\n",
    "For questions or support, go to the forum on the <a href=\"http://www.pynq.io\">PYNQ project webpage </a>.\n",
    "\n",
    "\n",
    "## Project webpage\n",
    "\n",
    "You can find details on the <a href=\"http://www.pynq.io\">PYNQ project webpage </a>.\n",
    "\n",
    "\n",
    "## GitHub\n",
    "\n",
    "The PYNQ Repository is hosted on github: <a href=\"https://github.com/Xilinx/PYNQ\">PYNQ GitHub Repository</a>."
   ]
  },
  {
   "cell_type": "code",
   "execution_count": 2,
   "metadata": {},
   "outputs": [],
   "source": [
    "from pynq import Overlay\n",
    "import pynq.lib.dma\n",
    "from pynq import Xlnk\n",
    "import numpy as np\n",
    "import csv\n",
    "\n",
    "ol = Overlay(\"../fpga2/design_1.bit\")\n",
    "\n",
    "ol?"
   ]
  },
  {
   "cell_type": "code",
   "execution_count": 5,
   "metadata": {},
   "outputs": [
    {
     "name": "stdout",
     "output_type": "stream",
     "text": [
      "Input size: 723 Output size: 64\n"
     ]
    }
   ],
   "source": [
    "import numpy as np\n",
    "from pynq import allocate\n",
    "from pynq import Overlay\n",
    "\n",
    "dma = ol.axi_dma_0\n",
    "\n",
    "input_row = 64\n",
    "input_col = 7\n",
    "hidden_row = 8\n",
    "hidden_col = 2\n",
    "sigmoid = 256\n",
    "output_row = 3\n",
    "output_col = 1\n",
    "input_size = input_row * input_col + hidden_row * hidden_col + sigmoid + output_row * output_col\n",
    "output_size = output_col * input_row\n",
    "\n",
    "input_buffer = allocate(shape=(input_size,), dtype=np.uint32)\n",
    "output_buffer = allocate(shape=(output_size,), dtype=np.uint32)\n",
    "print(\"Input size:\", input_size, \"Output size:\", output_size)"
   ]
  },
  {
   "cell_type": "code",
   "execution_count": 6,
   "metadata": {},
   "outputs": [],
   "source": [
    "import csv\n",
    "\n",
    "i = 0\n",
    "\n",
    "#read input layer\n",
    "with open('../csv/X.csv') as f:\n",
    "    f_csv = csv.reader(f)\n",
    "    for row in f_csv:\n",
    "        for item in row:\n",
    "            input_buffer[i] = item\n",
    "            i = i + 1\n",
    "            pass\n",
    "            \n",
    "#read hidden layer\n",
    "with open('../csv/w_hid.csv') as f:\n",
    "    f_csv = csv.reader(f)\n",
    "    for row in zip(*f_csv):\n",
    "        for item in row:\n",
    "            input_buffer[i] = item\n",
    "            i = i + 1\n",
    "\n",
    "#read sigmoid layer\n",
    "with open('../csv/sigmoid.csv') as f:\n",
    "    f_csv = csv.reader(f)\n",
    "    for row in f_csv:\n",
    "        for item in row:\n",
    "            input_buffer[i] = item\n",
    "            i = i + 1\n",
    "\n",
    "#read output layer\n",
    "with open('../csv/w_out.csv') as f:\n",
    "    f_csv = csv.reader(f)\n",
    "    for row in zip(*f_csv):\n",
    "        for item in row:\n",
    "            input_buffer[i] = item\n",
    "            i = i + 1"
   ]
  },
  {
   "cell_type": "code",
   "execution_count": 7,
   "metadata": {
    "scrolled": true
   },
   "outputs": [
    {
     "name": "stdout",
     "output_type": "stream",
     "text": [
      "[100 153 152 135 122 127 152 160 146 128 120 118 166 153 153 128 167 123\n",
      " 148 119 127 130 153 112 146 141 157 145 120 111 119 122 122 114 142 146\n",
      " 121 157 115 160 115 187 117 116 129 161 177 139 153 121 111 143 142 118\n",
      " 152 114 110 164 119 122 157 119 135 125]\n"
     ]
    }
   ],
   "source": [
    "dma.sendchannel.transfer(input_buffer)\n",
    "dma.recvchannel.transfer(output_buffer)\n",
    "dma.sendchannel.wait()\n",
    "dma.recvchannel.wait()\n",
    "print(output_buffer)"
   ]
  },
  {
   "cell_type": "code",
   "execution_count": 11,
   "metadata": {},
   "outputs": [
    {
     "name": "stdout",
     "output_type": "stream",
     "text": [
      "[[ 44  90   0   0  24  81  22]\n",
      " [159 250 140 176 121 183 138]\n",
      " [167 158 172 134 172 161 118]\n",
      " [130 178 136 120 135 121  86]\n",
      " [ 34 112 142 112 163 159  43]\n",
      " [ 63  28 145 126 190 165  66]\n",
      " [ 88 214 157 140 205 174 128]\n",
      " [185 203 170 110 211 138 126]\n",
      " [140 255 110 136 133 156 131]\n",
      " [ 73  90 164 118  75 121 111]\n",
      " [ 16  93 187  88 162 101  27]\n",
      " [ 31 110 120  77 166 101  45]\n",
      " [183 181 155 175 135 211 185]\n",
      " [129 193 104 159 184 183 161]\n",
      " [190 183 143 124 139 138 145]\n",
      " [ 79 113 115 111 164 101  88]\n",
      " [213 213 149 159 133 199 183]\n",
      " [ 13  94 127 146 132 150  89]\n",
      " [103 175 164 139 187 147 128]\n",
      " [ 42  82 104  83 167  50  71]\n",
      " [ 26  90 109 143 135 220 106]\n",
      " [ 69  90 101 180 125 222 108]\n",
      " [143 225 125 147 196 197 121]\n",
      " [ 73  87 125  29   8  87  67]\n",
      " [100 136 254 119 170 140  77]\n",
      " [110 136 101 137 186 174 126]\n",
      " [165 143 179 151 167 156 147]\n",
      " [182 207 131 105 130 101 124]\n",
      " [ 34  51 194  94  90  94  58]\n",
      " [108  85 116  25  24   0  59]\n",
      " [ 18  70 110 118 179 138  50]\n",
      " [ 35 165 120  72 126  72  82]\n",
      " [ 72  99  85  76 210 101  56]\n",
      " [ 27  85  85 109 122 133  54]\n",
      " [149 166 176 111 135 115  98]\n",
      " [138 180 136 131 255 139  84]\n",
      " [120  97 115  96 110 128  44]\n",
      " [183 181 183 152 119 174 148]\n",
      " [ 38 113 125  67  88  26  68]\n",
      " [180 188 169 137 188 124 145]\n",
      " [ 86  87  80  72  76  73  71]\n",
      " [219 224 155 165 197 252 218]\n",
      " [ 31  65 145  38 112  32  78]\n",
      " [ 21 134  48  83  94  78 111]\n",
      " [111  62 128  89 163 209  65]\n",
      " [224 206 128 155 167 170 150]\n",
      " [231 225 139 174 149 202 208]\n",
      " [140 146 106 124 192 142 104]\n",
      " [116 191 196 136 192 170 108]\n",
      " [ 43 136 131  58  44  50 118]\n",
      " [ 39  76 130  63  71  62  39]\n",
      " [103 166 170 115 236 131  75]\n",
      " [ 83 148 206 120 142 156 102]\n",
      " [ 73  41 150  63 123  78  51]\n",
      " [159 136  93 153 140 149 198]\n",
      " [ 14  77 160  67  68  72  56]\n",
      " [ 37  70 131  53  72  46  37]\n",
      " [225 171 136 148 136 161 188]\n",
      " [ 64 177  76  69  92  92  84]\n",
      " [ 44  54 166  93 158 101  59]\n",
      " [153 170 150 125 152 171 166]\n",
      " [ 86 155 136  41  36 131  63]\n",
      " [138 160 104 119 149 124 100]\n",
      " [ 19  56 140 139 217 161  51]]\n",
      "[[26 25 31 29 22  1 11 26]\n",
      " [ 6 18  6 26  1 28  9 45]]\n",
      "[ 80  50 200]\n"
     ]
    }
   ],
   "source": [
    "import numpy as np\n",
    "inputs = np.loadtxt('../csv/X.csv', delimiter=',', dtype ='int')\n",
    "hidden = np.loadtxt('../csv/w_hid.csv', delimiter=',', dtype ='int')\n",
    "hidden = np.transpose(hidden)\n",
    "sigmoid = np.loadtxt('../csv/sigmoid.csv', delimiter=',', dtype ='int')\n",
    "outputs = np.loadtxt('../csv/w_out.csv', delimiter=',', dtype ='int')\n",
    "outputs = np.transpose(outputs)\n",
    "print(inputs)\n",
    "print(hidden)\n",
    "print(outputs)"
   ]
  },
  {
   "cell_type": "code",
   "execution_count": 17,
   "metadata": {},
   "outputs": [
    {
     "name": "stdout",
     "output_type": "stream",
     "text": [
      "Wrong! FPGA output: 135 Real output: 134\n",
      "Wrong! FPGA output: 127 Real output: 126\n",
      "Wrong! FPGA output: 152 Real output: 151\n",
      "Wrong! FPGA output: 160 Real output: 159\n",
      "Wrong! FPGA output: 166 Real output: 165\n",
      "Wrong! FPGA output: 153 Real output: 152\n",
      "Wrong! FPGA output: 128 Real output: 127\n",
      "Wrong! FPGA output: 119 Real output: 118\n",
      "Wrong! FPGA output: 130 Real output: 129\n",
      "Wrong! FPGA output: 146 Real output: 145\n",
      "Wrong! FPGA output: 145 Real output: 144\n",
      "Wrong! FPGA output: 120 Real output: 119\n",
      "Wrong! FPGA output: 111 Real output: 110\n",
      "Wrong! FPGA output: 119 Real output: 118\n",
      "Wrong! FPGA output: 142 Real output: 141\n",
      "Wrong! FPGA output: 121 Real output: 120\n",
      "Wrong! FPGA output: 129 Real output: 128\n",
      "Wrong! FPGA output: 161 Real output: 160\n",
      "Wrong! FPGA output: 121 Real output: 120\n",
      "Wrong! FPGA output: 111 Real output: 110\n",
      "Wrong! FPGA output: 143 Real output: 142\n",
      "Wrong! FPGA output: 142 Real output: 141\n",
      "Wrong! FPGA output: 118 Real output: 117\n",
      "Wrong! FPGA output: 110 Real output: 109\n",
      "Wrong! FPGA output: 164 Real output: 163\n",
      "Wrong! FPGA output: 157 Real output: 156\n"
     ]
    }
   ],
   "source": [
    "results = list()\n",
    "for a in range(input_row):\n",
    "    sums = [0 for x in range(hidden_col)]\n",
    "    for c in range(hidden_col):\n",
    "        for b in range(input_col):\n",
    "            sums[c] = sums[c] + inputs[a][b] * hidden[c][b + 1]\n",
    "        sums[c] = sums[c] >> 8\n",
    "        sums[c] += hidden[c][0]    \n",
    "        sums[c] = sigmoid[sums[c]]\n",
    "    mul = [(sums[x] * outputs[x + 1]) >> 8 for x in range(hidden_col)]\n",
    "    results.append(sum(mul) + outputs[0])\n",
    "\n",
    "#validate results\n",
    "for x in range(input_row):\n",
    "    if results[x] != output_buffer[x]:\n",
    "        print(\"Wrong! FPGA output:\", output_buffer[x], \"Real output:\", results[x])"
   ]
  },
  {
   "cell_type": "code",
   "execution_count": null,
   "metadata": {},
   "outputs": [],
   "source": []
  }
 ],
 "metadata": {
  "kernelspec": {
   "display_name": "Python 3",
   "language": "python",
   "name": "python3"
  },
  "language_info": {
   "codemirror_mode": {
    "name": "ipython",
    "version": 3
   },
   "file_extension": ".py",
   "mimetype": "text/x-python",
   "name": "python",
   "nbconvert_exporter": "python",
   "pygments_lexer": "ipython3",
   "version": "3.6.5"
  }
 },
 "nbformat": 4,
 "nbformat_minor": 1
}
