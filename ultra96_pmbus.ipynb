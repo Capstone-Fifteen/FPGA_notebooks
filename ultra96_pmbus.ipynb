{
 "cells": [
  {
   "cell_type": "markdown",
   "metadata": {},
   "source": [
    "# PMBus on the Ultra96\n",
    "\n",
    "The Ultra96 has some support for monitoring power rails on the board using PMBus. PYNQ exposes these rails through the get_rails function that returns a dictionary of all of the rails available to be monitored."
   ]
  },
  {
   "cell_type": "code",
   "execution_count": 1,
   "metadata": {
    "scrolled": true
   },
   "outputs": [
    {
     "data": {
      "application/javascript": [
       "\n",
       "try {\n",
       "require(['notebook/js/codecell'], function(codecell) {\n",
       "  codecell.CodeCell.options_default.highlight_modes[\n",
       "      'magic_text/x-csrc'] = {'reg':[/^%%microblaze/]};\n",
       "  Jupyter.notebook.events.one('kernel_ready.Kernel', function(){\n",
       "      Jupyter.notebook.get_cells().map(function(cell){\n",
       "          if (cell.cell_type == 'code'){ cell.auto_highlight(); } }) ;\n",
       "  });\n",
       "});\n",
       "} catch (e) {};\n"
      ]
     },
     "metadata": {},
     "output_type": "display_data"
    },
    {
     "data": {
      "application/javascript": [
       "\n",
       "try {\n",
       "require(['notebook/js/codecell'], function(codecell) {\n",
       "  codecell.CodeCell.options_default.highlight_modes[\n",
       "      'magic_text/x-csrc'] = {'reg':[/^%%pybind11/]};\n",
       "  Jupyter.notebook.events.one('kernel_ready.Kernel', function(){\n",
       "      Jupyter.notebook.get_cells().map(function(cell){\n",
       "          if (cell.cell_type == 'code'){ cell.auto_highlight(); } }) ;\n",
       "  });\n",
       "});\n",
       "} catch (e) {};\n"
      ]
     },
     "metadata": {},
     "output_type": "display_data"
    },
    {
     "data": {
      "text/plain": [
       "{'1V2': Rail {name=1V2, voltage=Sensor {name=1V2_voltage, value=1.203V}, current=Sensor {name=1V2_current, value=0.031A}, power=Sensor {name=1V2_power, value=0.03125W}},\n",
       " '3V3': Rail {name=3V3, voltage=Sensor {name=3V3_voltage, value=3.304V}, current=Sensor {name=3V3_current, value=0.171A}, power=Sensor {name=3V3_power, value=0.5625W}},\n",
       " '3V3_D': Rail {name=3V3_D, voltage=Sensor {name=3V3_D_voltage, value=3.343V}, current=Sensor {name=3V3_D_current, value=0.0A}, power=Sensor {name=3V3_D_power, value=0.0W}},\n",
       " 'AUX': Rail {name=AUX, voltage=Sensor {name=AUX_voltage, value=1.8V}, current=Sensor {name=AUX_current, value=0.031A}, power=Sensor {name=AUX_power, value=0.03125W}},\n",
       " 'INT': Rail {name=INT, voltage=Sensor {name=INT_voltage, value=0.847V}, current=Sensor {name=INT_current, value=0.312A}, power=Sensor {name=INT_power, value=0.25W}},\n",
       " 'PSAUX': Rail {name=PSAUX, voltage=Sensor {name=PSAUX_voltage, value=1.8V}, current=Sensor {name=PSAUX_current, value=0.171A}, power=Sensor {name=PSAUX_power, value=0.28125W}},\n",
       " 'PSDDR': Rail {name=PSDDR, voltage=Sensor {name=PSDDR_voltage, value=1.101V}, current=Sensor {name=PSDDR_current, value=0.093A}, power=Sensor {name=PSDDR_power, value=0.3125W}},\n",
       " 'PSINT_FP': Rail {name=PSINT_FP, voltage=Sensor {name=PSINT_FP_voltage, value=0.843V}, current=Sensor {name=PSINT_FP_current, value=1.0A}, power=Sensor {name=PSINT_FP_power, value=0.84375W}},\n",
       " 'PSINT_LP': Rail {name=PSINT_LP, voltage=Sensor {name=PSINT_LP_voltage, value=0.847V}, current=Sensor {name=PSINT_LP_current, value=0.296A}, power=Sensor {name=PSINT_LP_power, value=0.25W}},\n",
       " 'PSPLL': Rail {name=PSPLL, voltage=Sensor {name=PSPLL_voltage, value=1.203V}, current=Sensor {name=PSPLL_current, value=0.028A}, power=Sensor {name=PSPLL_power, value=0.03125W}},\n",
       " 'in1': Rail {name=in1, voltage=Sensor {name=in1_voltage, value=1.2V}},\n",
       " 'in10': Rail {name=in10, voltage=Sensor {name=in10_voltage, value=1.796V}},\n",
       " 'in11': Rail {name=in11, voltage=Sensor {name=in11_voltage, value=1.099V}},\n",
       " 'in2': Rail {name=in2, voltage=Sensor {name=in2_voltage, value=1.795V}},\n",
       " 'in3': Rail {name=in3, voltage=Sensor {name=in3_voltage, value=0.845V}},\n",
       " 'in4': Rail {name=in4, voltage=Sensor {name=in4_voltage, value=0.847V}},\n",
       " 'in5': Rail {name=in5, voltage=Sensor {name=in5_voltage, value=1.798V}},\n",
       " 'in6': Rail {name=in6, voltage=Sensor {name=in6_voltage, value=1.797V}},\n",
       " 'in7': Rail {name=in7, voltage=Sensor {name=in7_voltage, value=0.83V}},\n",
       " 'in8': Rail {name=in8, voltage=Sensor {name=in8_voltage, value=0.841V}},\n",
       " 'in9': Rail {name=in9, voltage=Sensor {name=in9_voltage, value=0.831V}}}"
      ]
     },
     "execution_count": 1,
     "metadata": {},
     "output_type": "execute_result"
    }
   ],
   "source": [
    "import pynq\n",
    "\n",
    "rails = pynq.get_rails()\n",
    "rails"
   ]
  },
  {
   "cell_type": "markdown",
   "metadata": {},
   "source": [
    "Depending on whether you are using Ultra96 v1 or v2, you may see a different set of rails.\n",
    "\n",
    "As can be seen, the keys of the dictionary are the names of the voltage rails while the values are `Rail` objects which contain three sensors for the voltage, current and power.\n",
    "\n",
    "To see how power changes under CPU load we can use the `DataRecorder` class. \n",
    "For this example we are going to look at a specific power rail (depending on v1 or v2)\n",
    "as we load one of the CPU cores in Python."
   ]
  },
  {
   "cell_type": "code",
   "execution_count": 7,
   "metadata": {},
   "outputs": [
    {
     "name": "stdout",
     "output_type": "stream",
     "text": [
      "Recording Ultra96 v2 power...\n"
     ]
    }
   ],
   "source": [
    "if 'VSYS' in rails.keys():\n",
    "    print(\"Recording Ultra96 v1 power...\")\n",
    "    rail_name = 'VSYS'\n",
    "elif 'PSINT_FP' in rails.keys():\n",
    "    print(\"Recording Ultra96 v2 power...\")\n",
    "    rail_name = 'PSINT_FP'\n",
    "else:\n",
    "    raise RuntimeError(\"Cannot determine Ultra96 board version.\")\n",
    "    \n",
    "rail_name = 'PSPLL'\n",
    "recorder = pynq.DataRecorder(rails[rail_name].power)"
   ]
  },
  {
   "cell_type": "markdown",
   "metadata": {},
   "source": [
    "We can now use the recorder to monitor the applied sensor. For this example we'll sample the power every half second while sleeping and performing a dummy loop."
   ]
  },
  {
   "cell_type": "code",
   "execution_count": 12,
   "metadata": {},
   "outputs": [],
   "source": [
    "import time\n",
    "with recorder.record(0.5):\n",
    "    time.sleep(5)\n",
    "    for _ in range(10000000):\n",
    "        pass\n",
    "    time.sleep(5)"
   ]
  },
  {
   "cell_type": "markdown",
   "metadata": {},
   "source": [
    "The `DataRecorder` exposes the sensor data as a pandas dataframe."
   ]
  },
  {
   "cell_type": "code",
   "execution_count": 9,
   "metadata": {},
   "outputs": [
    {
     "data": {
      "text/html": [
       "<div>\n",
       "<style scoped>\n",
       "    .dataframe tbody tr th:only-of-type {\n",
       "        vertical-align: middle;\n",
       "    }\n",
       "\n",
       "    .dataframe tbody tr th {\n",
       "        vertical-align: top;\n",
       "    }\n",
       "\n",
       "    .dataframe thead th {\n",
       "        text-align: right;\n",
       "    }\n",
       "</style>\n",
       "<table border=\"1\" class=\"dataframe\">\n",
       "  <thead>\n",
       "    <tr style=\"text-align: right;\">\n",
       "      <th></th>\n",
       "      <th>Mark</th>\n",
       "      <th>PSPLL_power</th>\n",
       "    </tr>\n",
       "  </thead>\n",
       "  <tbody>\n",
       "    <tr>\n",
       "      <th>2021-02-25 17:25:54.614840</th>\n",
       "      <td>0.0</td>\n",
       "      <td>0.03125</td>\n",
       "    </tr>\n",
       "    <tr>\n",
       "      <th>2021-02-25 17:25:55.128003</th>\n",
       "      <td>0.0</td>\n",
       "      <td>0.03125</td>\n",
       "    </tr>\n",
       "    <tr>\n",
       "      <th>2021-02-25 17:25:55.708175</th>\n",
       "      <td>0.0</td>\n",
       "      <td>0.03125</td>\n",
       "    </tr>\n",
       "    <tr>\n",
       "      <th>2021-02-25 17:25:56.220698</th>\n",
       "      <td>0.0</td>\n",
       "      <td>0.03125</td>\n",
       "    </tr>\n",
       "    <tr>\n",
       "      <th>2021-02-25 17:25:56.800820</th>\n",
       "      <td>0.0</td>\n",
       "      <td>0.03125</td>\n",
       "    </tr>\n",
       "    <tr>\n",
       "      <th>2021-02-25 17:25:57.313227</th>\n",
       "      <td>0.0</td>\n",
       "      <td>0.03125</td>\n",
       "    </tr>\n",
       "    <tr>\n",
       "      <th>2021-02-25 17:25:57.893554</th>\n",
       "      <td>0.0</td>\n",
       "      <td>0.03125</td>\n",
       "    </tr>\n",
       "    <tr>\n",
       "      <th>2021-02-25 17:25:58.406051</th>\n",
       "      <td>0.0</td>\n",
       "      <td>0.03125</td>\n",
       "    </tr>\n",
       "    <tr>\n",
       "      <th>2021-02-25 17:25:58.991587</th>\n",
       "      <td>0.0</td>\n",
       "      <td>0.03125</td>\n",
       "    </tr>\n",
       "    <tr>\n",
       "      <th>2021-02-25 17:25:59.504155</th>\n",
       "      <td>0.0</td>\n",
       "      <td>0.03125</td>\n",
       "    </tr>\n",
       "    <tr>\n",
       "      <th>2021-02-25 17:26:00.095021</th>\n",
       "      <td>0.0</td>\n",
       "      <td>0.03125</td>\n",
       "    </tr>\n",
       "    <tr>\n",
       "      <th>2021-02-25 17:26:00.622870</th>\n",
       "      <td>0.0</td>\n",
       "      <td>0.03125</td>\n",
       "    </tr>\n",
       "    <tr>\n",
       "      <th>2021-02-25 17:26:01.218431</th>\n",
       "      <td>0.0</td>\n",
       "      <td>0.03125</td>\n",
       "    </tr>\n",
       "    <tr>\n",
       "      <th>2021-02-25 17:26:01.746213</th>\n",
       "      <td>0.0</td>\n",
       "      <td>0.03125</td>\n",
       "    </tr>\n",
       "    <tr>\n",
       "      <th>2021-02-25 17:26:02.346794</th>\n",
       "      <td>0.0</td>\n",
       "      <td>0.03125</td>\n",
       "    </tr>\n",
       "    <tr>\n",
       "      <th>2021-02-25 17:26:03.200750</th>\n",
       "      <td>0.0</td>\n",
       "      <td>0.03125</td>\n",
       "    </tr>\n",
       "    <tr>\n",
       "      <th>2021-02-25 17:26:03.791286</th>\n",
       "      <td>0.0</td>\n",
       "      <td>0.03125</td>\n",
       "    </tr>\n",
       "    <tr>\n",
       "      <th>2021-02-25 17:26:04.303785</th>\n",
       "      <td>0.0</td>\n",
       "      <td>0.03125</td>\n",
       "    </tr>\n",
       "    <tr>\n",
       "      <th>2021-02-25 17:26:04.883974</th>\n",
       "      <td>0.0</td>\n",
       "      <td>0.03125</td>\n",
       "    </tr>\n",
       "    <tr>\n",
       "      <th>2021-02-25 17:26:05.396495</th>\n",
       "      <td>0.0</td>\n",
       "      <td>0.03125</td>\n",
       "    </tr>\n",
       "    <tr>\n",
       "      <th>2021-02-25 17:26:05.976757</th>\n",
       "      <td>0.0</td>\n",
       "      <td>0.03125</td>\n",
       "    </tr>\n",
       "    <tr>\n",
       "      <th>2021-02-25 17:26:06.489503</th>\n",
       "      <td>0.0</td>\n",
       "      <td>0.03125</td>\n",
       "    </tr>\n",
       "    <tr>\n",
       "      <th>2021-02-25 17:26:07.070139</th>\n",
       "      <td>0.0</td>\n",
       "      <td>0.03125</td>\n",
       "    </tr>\n",
       "    <tr>\n",
       "      <th>2021-02-25 17:26:07.582639</th>\n",
       "      <td>0.0</td>\n",
       "      <td>0.03125</td>\n",
       "    </tr>\n",
       "    <tr>\n",
       "      <th>2021-02-25 17:26:08.162872</th>\n",
       "      <td>0.0</td>\n",
       "      <td>0.03125</td>\n",
       "    </tr>\n",
       "  </tbody>\n",
       "</table>\n",
       "</div>"
      ],
      "text/plain": [
       "                            Mark  PSPLL_power\n",
       "2021-02-25 17:25:54.614840   0.0      0.03125\n",
       "2021-02-25 17:25:55.128003   0.0      0.03125\n",
       "2021-02-25 17:25:55.708175   0.0      0.03125\n",
       "2021-02-25 17:25:56.220698   0.0      0.03125\n",
       "2021-02-25 17:25:56.800820   0.0      0.03125\n",
       "2021-02-25 17:25:57.313227   0.0      0.03125\n",
       "2021-02-25 17:25:57.893554   0.0      0.03125\n",
       "2021-02-25 17:25:58.406051   0.0      0.03125\n",
       "2021-02-25 17:25:58.991587   0.0      0.03125\n",
       "2021-02-25 17:25:59.504155   0.0      0.03125\n",
       "2021-02-25 17:26:00.095021   0.0      0.03125\n",
       "2021-02-25 17:26:00.622870   0.0      0.03125\n",
       "2021-02-25 17:26:01.218431   0.0      0.03125\n",
       "2021-02-25 17:26:01.746213   0.0      0.03125\n",
       "2021-02-25 17:26:02.346794   0.0      0.03125\n",
       "2021-02-25 17:26:03.200750   0.0      0.03125\n",
       "2021-02-25 17:26:03.791286   0.0      0.03125\n",
       "2021-02-25 17:26:04.303785   0.0      0.03125\n",
       "2021-02-25 17:26:04.883974   0.0      0.03125\n",
       "2021-02-25 17:26:05.396495   0.0      0.03125\n",
       "2021-02-25 17:26:05.976757   0.0      0.03125\n",
       "2021-02-25 17:26:06.489503   0.0      0.03125\n",
       "2021-02-25 17:26:07.070139   0.0      0.03125\n",
       "2021-02-25 17:26:07.582639   0.0      0.03125\n",
       "2021-02-25 17:26:08.162872   0.0      0.03125"
      ]
     },
     "execution_count": 9,
     "metadata": {},
     "output_type": "execute_result"
    }
   ],
   "source": [
    "recorder.frame"
   ]
  },
  {
   "cell_type": "markdown",
   "metadata": {},
   "source": [
    "Or by plotting the results using matplotlib."
   ]
  },
  {
   "cell_type": "code",
   "execution_count": 13,
   "metadata": {},
   "outputs": [
    {
     "data": {
      "text/plain": [
       "<matplotlib.axes._subplots.AxesSubplot at 0x7f97156cf8>"
      ]
     },
     "execution_count": 13,
     "metadata": {},
     "output_type": "execute_result"
    },
    {
     "data": {
      "image/png": "[encoded data removed]",
      "text/plain": [
       "<matplotlib.figure.Figure at 0x7f9700cfd0>"
      ]
     },
     "metadata": {},
     "output_type": "display_data"
    }
   ],
   "source": [
    "%matplotlib inline\n",
    "recorder.frame['{}_power'.format(rail_name)].plot()"
   ]
  },
  {
   "cell_type": "markdown",
   "metadata": {},
   "source": [
    "We can get more information by using the `mark` function which will increment the invocation number without having to stop and start the recorder."
   ]
  },
  {
   "cell_type": "code",
   "execution_count": 11,
   "metadata": {},
   "outputs": [
    {
     "data": {
      "text/plain": [
       "array([<matplotlib.axes._subplots.AxesSubplot object at 0x7f970d10b8>,\n",
       "       <matplotlib.axes._subplots.AxesSubplot object at 0x7f9709a5f8>],\n",
       "      dtype=object)"
      ]
     },
     "execution_count": 11,
     "metadata": {},
     "output_type": "execute_result"
    },
    {
     "data": {
      "image/png": "[encoded data removed]",
      "text/plain": [
       "<matplotlib.figure.Figure at 0x7f97125630>"
      ]
     },
     "metadata": {},
     "output_type": "display_data"
    }
   ],
   "source": [
    "recorder.reset()\n",
    "with recorder.record(0.5):\n",
    "    time.sleep(5)\n",
    "    recorder.mark()\n",
    "    for _ in range(10000000):\n",
    "        pass\n",
    "    recorder.mark()\n",
    "    time.sleep(5)\n",
    "    \n",
    "recorder.frame.plot(subplots=True)"
   ]
  },
  {
   "cell_type": "code",
   "execution_count": 21,
   "metadata": {
    "scrolled": true
   },
   "outputs": [
    {
     "data": {
      "text/plain": [
       "[<matplotlib.lines.Line2D at 0x1c17f756700>]"
      ]
     },
     "execution_count": 21,
     "metadata": {},
     "output_type": "execute_result"
    },
    {
     "data": {
      "image/png": "[encoded data removed]",
      "text/plain": [
       "<Figure size 1440x720 with 4 Axes>"
      ]
     },
     "metadata": {
      "needs_background": "light"
     },
     "output_type": "display_data"
    }
   ],
   "source": [
    "import pandas as pd\n",
    "\n",
    "a = pd.read_csv('PSINT_FP.csv')\n",
    "b = pd.read_csv('PSINT_LP.csv')\n",
    "c = pd.read_csv('PSDDR.csv')\n",
    "d = pd.read_csv('PSPLL.csv')\n",
    "\n",
    "from matplotlib import pyplot as plt\n",
    "\n",
    "fig, axs = plt.subplots(4,figsize=(20, 10))\n",
    "fig.suptitle('Power')\n",
    "axs[0].set_ylabel('PSINT_FP (W)')\n",
    "axs[1].set_ylabel('PSINT_LP (W)')\n",
    "axs[2].set_ylabel('PSDDR (W)')\n",
    "axs[3].set_ylabel('PSPLL (W)')\n",
    "axs[0].plot(a['{}_power'.format('PSINT_FP')])\n",
    "axs[1].plot(b['{}_power'.format('PSINT_LP')])\n",
    "axs[2].plot(c['{}_power'.format('PSDDR')])\n",
    "axs[3].plot(d['{}_power'.format('PSPLL')])"
   ]
  },
  {
   "cell_type": "code",
   "execution_count": 7,
   "metadata": {},
   "outputs": [
    {
     "name": "stdout",
     "output_type": "stream",
     "text": [
      "^C\n"
     ]
    }
   ],
   "source": []
  },
  {
   "cell_type": "markdown",
   "metadata": {},
   "source": [
    "This clearly shows the power spike when the for loop starts running."
   ]
  }
 ],
 "metadata": {
  "kernelspec": {
   "display_name": "Python 3",
   "language": "python",
   "name": "python3"
  },
  "language_info": {
   "codemirror_mode": {
    "name": "ipython",
    "version": 3
   },
   "file_extension": ".py",
   "mimetype": "text/x-python",
   "name": "python",
   "nbconvert_exporter": "python",
   "pygments_lexer": "ipython3",
   "version": "3.8.1"
  }
 },
 "nbformat": 4,
 "nbformat_minor": 2
}
