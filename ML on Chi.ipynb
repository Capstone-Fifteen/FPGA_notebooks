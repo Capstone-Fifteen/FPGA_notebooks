{
 "cells": [
  {
   "cell_type": "code",
   "execution_count": 4,
   "metadata": {},
   "outputs": [],
   "source": [
    "from tensorflow import keras\n",
    "model = keras.models.load_model('./ML_stuff/trained_model_dataset_3.2_model_mlp_fold3.h5')\n",
    "\n",
    "import numpy as np"
   ]
  },
  {
   "cell_type": "code",
   "execution_count": 16,
   "metadata": {},
   "outputs": [],
   "source": [
    "def preprocess_data(list_of_data, u, s, window_size):\n",
    "    normalise_data = (np.array(list_of_data) - u) / s\n",
    "    delta_feature = np.diff(np.array(normalise_data)) \n",
    "    w = 3 # rolling mean of window 3\n",
    "    rolling_mean_delta_feature = np.convolve(delta_feature, np.ones(w), 'valid') / w \n",
    "    result = []\n",
    "    print(len(rolling_mean_delta_feature))\n",
    "    for i in range(0, len(rolling_mean_delta_feature)):\n",
    "        if i + window_size <= len(rolling_mean_delta_feature):\n",
    "            temp = []\n",
    "            for j in range(0, window_size):\n",
    "                temp.append(rolling_mean_delta_feature[i + j])\n",
    "            result.append(temp)\n",
    "    return result    "
   ]
  },
  {
   "cell_type": "code",
   "execution_count": 17,
   "metadata": {},
   "outputs": [
    {
     "name": "stdout",
     "output_type": "stream",
     "text": [
      "64\n",
      "64\n",
      "64\n",
      "64\n",
      "64\n",
      "64\n"
     ]
    }
   ],
   "source": [
    "acc_x = preprocess_data(raw_acc_x, u, s, 64)\n",
    "acc_y = preprocess_data(raw_acc_y, u, s, 64)\n",
    "acc_z = preprocess_data(raw_acc_z, u, s, 64)\n",
    "yaw = preprocess_data(raw_yaw, u, s, 64)\n",
    "pitch = preprocess_data(raw_pitch, u, s, 64)\n",
    "roll = preprocess_data(raw_roll, u, s, 64)"
   ]
  },
  {
   "cell_type": "code",
   "execution_count": 23,
   "metadata": {},
   "outputs": [
    {
     "name": "stdout",
     "output_type": "stream",
     "text": [
      "(64, 6, 1)\n",
      "[[5.9281639e-04 1.2845050e-02 1.1585189e-02 1.7733205e-02 5.7010213e-03\n",
      "  2.0739455e-02 7.2017438e-03 1.8738809e-03 1.3608465e-03 9.2036682e-01]]\n"
     ]
    }
   ],
   "source": [
    "data1 = np.array([acc_x[0], acc_y[0], acc_z[0], yaw[0], pitch[0], roll[0]]).transpose()\n",
    "data1 = data1[..., np.newaxis]\n",
    "prediction = model.predict(np.array([data1]))\n",
    "print(prediction)"
   ]
  }
 ],
 "metadata": {
  "kernelspec": {
   "display_name": "Python 3",
   "language": "python",
   "name": "python3"
  },
  "language_info": {
   "codemirror_mode": {
    "name": "ipython",
    "version": 3
   },
   "file_extension": ".py",
   "mimetype": "text/x-python",
   "name": "python",
   "nbconvert_exporter": "python",
   "pygments_lexer": "ipython3",
   "version": "3.8.1"
  }
 },
 "nbformat": 4,
 "nbformat_minor": 4
}
