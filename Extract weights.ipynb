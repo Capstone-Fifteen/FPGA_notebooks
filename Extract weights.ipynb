{
 "cells": [
  {
   "cell_type": "code",
   "execution_count": 67,
   "id": "primary-register",
   "metadata": {},
   "outputs": [],
   "source": [
    "from tensorflow import keras\n",
    "model = keras.models.load_model('./model/model_all')"
   ]
  },
  {
   "cell_type": "code",
   "execution_count": 77,
   "id": "insured-enough",
   "metadata": {},
   "outputs": [
    {
     "name": "stdout",
     "output_type": "stream",
     "text": [
      "Model: \"sequential\"\n",
      "_________________________________________________________________\n",
      "Layer (type)                 Output Shape              Param #   \n",
      "=================================================================\n",
      "dense (Dense)                (None, 256)               30976     \n",
      "_________________________________________________________________\n",
      "dropout (Dropout)            (None, 256)               0         \n",
      "_________________________________________________________________\n",
      "dense_1 (Dense)              (None, 32)                8224      \n",
      "_________________________________________________________________\n",
      "dense_2 (Dense)              (None, 3)                 99        \n",
      "=================================================================\n",
      "Total params: 39,299\n",
      "Trainable params: 39,299\n",
      "Non-trainable params: 0\n",
      "_________________________________________________________________\n"
     ]
    }
   ],
   "source": [
    "model.summary()\n",
    "num_of_layers = len(model.layers)\n",
    "\n",
    "weights = []\n",
    "bias = []\n",
    "activation = []\n",
    "for layer in model.layers:\n",
    "    if 'conv2d' in layer.get_config()['name']:\n",
    "        w, b = layer.get_weights()\n",
    "        print(w.shape)\n",
    "        print(b.shape)\n",
    "        continue\n",
    "    if 'activation' in layer.get_config()['name']:\n",
    "        continue\n",
    "    if 'flatten' in layer.get_config()['name']:\n",
    "        continue\n",
    "    if 'dropout' in layer.get_config()['name']:\n",
    "        continue\n",
    "    w, b = layer.get_weights()\n",
    "    activation.append(layer.get_config()['activation'])\n",
    "    weights.append(w)\n",
    "    bias.append(b)"
   ]
  },
  {
   "cell_type": "code",
   "execution_count": 69,
   "id": "unusual-recording",
   "metadata": {},
   "outputs": [
    {
     "name": "stdout",
     "output_type": "stream",
     "text": [
      "(120, 256)\n",
      "(256, 32)\n",
      "(32, 3)\n",
      "(256,)\n",
      "(32,)\n",
      "(3,)\n"
     ]
    }
   ],
   "source": [
    "for w in weights:\n",
    "    print(w.shape)\n",
    "for b in bias:\n",
    "    print(b.shape)"
   ]
  },
  {
   "cell_type": "code",
   "execution_count": 70,
   "id": "streaming-setting",
   "metadata": {},
   "outputs": [],
   "source": [
    "import numpy as np\n",
    "\n",
    "w = weights\n",
    "w[0] = w[0].transpose()\n",
    "w[1] = w[1].transpose()\n",
    "w[2] = w[2].transpose()\n",
    "\n",
    "w[0] = np.pad(w[0], ((0, 256 - w[0].shape[0]), (0, 256 - w[0].shape[1])), mode='constant', constant_values=0)\n",
    "w[1] = np.pad(w[1], ((0, 256 - w[1].shape[0]), (0, 256 - w[1].shape[1])), mode='constant', constant_values=0)\n",
    "w[2] = np.pad(w[2], ((0, 64 - w[2].shape[0]), (0, 256 - w[2].shape[1])), mode='constant', constant_values=0)\n",
    "\n",
    "#np.pad(a, ((0,0),(0,3)), mode='constant', constant_values=0)"
   ]
  },
  {
   "cell_type": "code",
   "execution_count": 71,
   "id": "continuing-twist",
   "metadata": {},
   "outputs": [],
   "source": [
    "b = bias\n",
    "\n",
    "b[0] = np.pad(b[0], (0, 256 - b[0].shape[0]), mode='constant', constant_values=0)\n",
    "b[1] = np.pad(b[1], (0, 256 - b[1].shape[0]), mode='constant', constant_values=0)\n",
    "b[2] = np.pad(b[2], (0, 64 - b[2].shape[0]), mode='constant', constant_values=0)"
   ]
  },
  {
   "cell_type": "code",
   "execution_count": 72,
   "id": "sunrise-russell",
   "metadata": {},
   "outputs": [
    {
     "name": "stdout",
     "output_type": "stream",
     "text": [
      "(256, 256)\n",
      "(256, 256)\n",
      "(64, 256)\n",
      "(256,)\n",
      "(256,)\n",
      "(64,)\n"
     ]
    }
   ],
   "source": [
    "for x in w:\n",
    "    print(x.shape)\n",
    "for x in b:\n",
    "    print(x.shape)"
   ]
  },
  {
   "cell_type": "code",
   "execution_count": 73,
   "id": "split-forest",
   "metadata": {},
   "outputs": [],
   "source": [
    "a = np.concatenate((w[0].flatten(), w[1].flatten(), w[2].flatten()), axis=0)\n",
    "np.savetxt(\"weights.csv\", a, delimiter=\",\")\n",
    "a = np.concatenate((b[0].flatten(), b[1].flatten(), b[2].flatten()), axis=0)\n",
    "np.savetxt(\"bias.csv\", a, delimiter=\",\")"
   ]
  },
  {
   "cell_type": "code",
   "execution_count": 74,
   "id": "falling-organ",
   "metadata": {},
   "outputs": [
    {
     "name": "stdout",
     "output_type": "stream",
     "text": [
      "[-0.17306007 -0.33779949 -0.08229709 ...  0.          0.\n",
      "  0.        ]\n"
     ]
    }
   ],
   "source": [
    "a = np.genfromtxt('./weights.csv', delimiter=',')\n",
    "print(a)"
   ]
  },
  {
   "cell_type": "code",
   "execution_count": 75,
   "id": "chinese-chile",
   "metadata": {},
   "outputs": [
    {
     "name": "stdout",
     "output_type": "stream",
     "text": [
      "[[7.0681043e-02 8.2874441e-01 1.0057459e-01]\n",
      " [7.9532881e-23 1.0000000e+00 0.0000000e+00]]\n",
      "1\n",
      "1\n"
     ]
    }
   ],
   "source": [
    "X = np.array([[0 for x in range(0, 120)], [10 for x in range(0, 120)]])\n",
    "prediction = model.predict(X)\n",
    "print(prediction)\n",
    "for p in prediction:\n",
    "    print(np.argmax(p, axis=-1))"
   ]
  },
  {
   "cell_type": "code",
   "execution_count": 78,
   "id": "improved-resolution",
   "metadata": {},
   "outputs": [],
   "source": [
    "\n",
    "import tensorflow as tf\n",
    "software_prediction = []    \n",
    "\n",
    "def dot_product(a, b, n):\n",
    "    total = []\n",
    "    for i in range(0, b.shape[1]):\n",
    "        s = 0\n",
    "        for j in range(0, n):\n",
    "            s += a[j] * b[j][i]\n",
    "        total.append(s)\n",
    "    return total\n",
    "\n",
    "def add(a, b, n):\n",
    "    total = []\n",
    "    for i in range(0, n):\n",
    "        total.append(a[i] + b[i])\n",
    "    return total\n",
    "\n",
    "def softmax(x):\n",
    "    \"\"\"Compute softmax values for each sets of scores in x.\"\"\"\n",
    "    return np.exp(x) / np.sum(np.exp(x), axis=0)\n",
    "\n",
    "#minmax = [[float('inf'), float('-inf')] for x in range(0, num_of_layers)]\n",
    "\n",
    "for line in X:\n",
    "    in_data = line\n",
    "    for i in range(0, 3):\n",
    "#       minmax[i][0] = min(min(in_data), minmax[i][0])\n",
    "#        minmax[i][1] = max(max(in_data), minmax[i][1])\n",
    "        pdt = np.matmul(in_data, weights[i], dtype=np.float32)\n",
    "        in_data = add(pdt, bias[i], len(bias[i]))\n",
    "        if activation[i] == 'relu':\n",
    "            in_data = tf.keras.activations.relu(in_data)\n",
    "        elif activation[i] == 'softmax':\n",
    "            in_data = in_data\n",
    "    software_prediction.append(in_data)\n",
    "\n",
    "software_prediction = np.array(software_prediction)"
   ]
  },
  {
   "cell_type": "code",
   "execution_count": 79,
   "id": "beginning-atmosphere",
   "metadata": {},
   "outputs": [
    {
     "name": "stdout",
     "output_type": "stream",
     "text": [
      "1.0\n"
     ]
    }
   ],
   "source": [
    "m = tf.keras.metrics.CategoricalAccuracy(name=\"categorical_accuracy\", dtype=None)\n",
    "m.update_state(prediction, software_prediction)\n",
    "print(m.result().numpy())"
   ]
  },
  {
   "cell_type": "code",
   "execution_count": 80,
   "id": "worst-assurance",
   "metadata": {},
   "outputs": [
    {
     "name": "stdout",
     "output_type": "stream",
     "text": [
      "[[ -1.1914414    1.270293    -0.83871895]\n",
      " [  9.541855    60.42774    -31.045673  ]]\n"
     ]
    }
   ],
   "source": [
    "print(software_prediction)"
   ]
  },
  {
   "cell_type": "code",
   "execution_count": null,
   "id": "unauthorized-religion",
   "metadata": {},
   "outputs": [],
   "source": []
  }
 ],
 "metadata": {
  "kernelspec": {
   "display_name": "Python 3",
   "language": "python",
   "name": "python3"
  },
  "language_info": {
   "codemirror_mode": {
    "name": "ipython",
    "version": 3
   },
   "file_extension": ".py",
   "mimetype": "text/x-python",
   "name": "python",
   "nbconvert_exporter": "python",
   "pygments_lexer": "ipython3",
   "version": "3.8.5"
  }
 },
 "nbformat": 4,
 "nbformat_minor": 5
}
